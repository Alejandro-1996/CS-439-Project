{
 "cells": [
  {
   "cell_type": "code",
   "execution_count": 4,
   "metadata": {},
   "outputs": [
    {
     "name": "stdout",
     "output_type": "stream",
     "text": [
      "Collecting sklearn\n",
      "  Downloading sklearn-0.0.tar.gz (1.1 kB)\n",
      "Collecting scikit-learn\n",
      "  Downloading scikit_learn-0.24.2-cp39-cp39-macosx_10_13_x86_64.whl (7.3 MB)\n",
      "\u001b[K     |████████████████████████████████| 7.3 MB 3.7 MB/s eta 0:00:01\n",
      "\u001b[?25hCollecting threadpoolctl>=2.0.0\n",
      "  Downloading threadpoolctl-2.1.0-py3-none-any.whl (12 kB)\n",
      "Requirement already satisfied: numpy>=1.13.3 in /Library/Frameworks/Python.framework/Versions/3.9/lib/python3.9/site-packages (from scikit-learn->sklearn) (1.20.1)\n",
      "Requirement already satisfied: scipy>=0.19.1 in /Library/Frameworks/Python.framework/Versions/3.9/lib/python3.9/site-packages (from scikit-learn->sklearn) (1.6.1)\n",
      "Collecting joblib>=0.11\n",
      "  Downloading joblib-1.0.1-py3-none-any.whl (303 kB)\n",
      "\u001b[K     |████████████████████████████████| 303 kB 23.9 MB/s eta 0:00:01\n",
      "\u001b[?25hUsing legacy 'setup.py install' for sklearn, since package 'wheel' is not installed.\n",
      "Installing collected packages: threadpoolctl, joblib, scikit-learn, sklearn\n",
      "    Running setup.py install for sklearn ... \u001b[?25ldone\n",
      "\u001b[?25hSuccessfully installed joblib-1.0.1 scikit-learn-0.24.2 sklearn-0.0 threadpoolctl-2.1.0\n",
      "\u001b[33mWARNING: You are using pip version 20.2.3; however, version 21.1.2 is available.\n",
      "You should consider upgrading via the '/Library/Frameworks/Python.framework/Versions/3.9/bin/python3.9 -m pip install --upgrade pip' command.\u001b[0m\n"
     ]
    }
   ],
   "source": [
    "!pip3 install sklearn"
   ]
  },
  {
   "cell_type": "code",
   "execution_count": 5,
   "metadata": {},
   "outputs": [],
   "source": [
    "from collections import defaultdict\n",
    "import numpy as np\n",
    "import scipy\n",
    "import scipy.sparse as sps\n",
    "import math\n",
    "import matplotlib.pyplot as plt\n",
    "import time\n",
    "from sklearn.datasets import load_svmlight_file\n",
    "import random\n",
    "%matplotlib inline"
   ]
  },
  {
   "cell_type": "markdown",
   "metadata": {
    "collapsed": true
   },
   "source": [
    "# Support Vector Machines\n",
    "## Classification Using SVM\n",
    "Load dataset. We will use w1a dataset from LibSVM datasets https://www.csie.ntu.edu.tw/~cjlin/libsvmtools/datasets/"
   ]
  },
  {
   "cell_type": "markdown",
   "metadata": {},
   "source": [
    "The original optimization problem for the Support Vector Machine (SVM) is given by\n",
    "\\begin{equation}\\label{eq:primal}\n",
    "  \\min_{w \\in R^d} \\  \\sum_{i=1}^n \\ell(y_i A_i^\\top w) + \\frac\\lambda2 \\|w\\|^2\n",
    "\\end{equation}\n",
    "where $\\ell : R\\rightarrow R$, $\\ell(z) := \\max\\{0,1-z\\}$ is the hinge loss function.\n",
    "Here for any $i$, $1\\le i\\le n$, the vector $A_i\\in R^d$ is the $i$-th data example, and $y_i\\in\\{\\pm1\\}$ is the corresponding label.\n",
    "  \n",
    "The dual optimization problem for the SVM is given by \n",
    "\\begin{equation}\\label{eq:dual}\n",
    " \\max_{\\boldsymbol{\\alpha} \\in R^n } \\  \\alpha^\\top\\boldsymbol{1} - \\tfrac1{2\\lambda} \\alpha^\\top Y A A^\\top Y\\alpha\n",
    " \\text{    such that    $0\\le \\alpha_i \\le 1  \\ \\forall i$}\n",
    "\\end{equation}\n",
    "where $Y := \\mathop{diag}(y)$, and $A\\in R^{n \\times d}$ again collects all $n$ data examples as its columns. \n",
    "\n",
    "Note that $w$ can be derived from $\\alpha$ as\n",
    "\\begin{equation}\n",
    "    w(\\alpha) = \\frac{1}{\\lambda} A^\\top Y \\alpha.\n",
    "\\end{equation}"
   ]
  },
  {
   "cell_type": "code",
   "execution_count": 6,
   "metadata": {},
   "outputs": [
    {
     "name": "stdout",
     "output_type": "stream",
     "text": [
      "(2477,) (2477, 300)\n"
     ]
    }
   ],
   "source": [
    "DATA_TRAIN_PATH = 'data/w1a'\n",
    "\n",
    "A, y = load_svmlight_file(DATA_TRAIN_PATH)\n",
    "A = A.toarray()\n",
    "print(y.shape, A.shape)"
   ]
  },
  {
   "cell_type": "markdown",
   "metadata": {},
   "source": [
    "## Prepare cost and prediction functions"
   ]
  },
  {
   "cell_type": "code",
   "execution_count": 7,
   "metadata": {},
   "outputs": [],
   "source": [
    "def hinge_loss(y, A, w):\n",
    "    return np.maximum(1 - y * (A @ w), 0)"
   ]
  },
  {
   "cell_type": "code",
   "execution_count": 8,
   "metadata": {},
   "outputs": [],
   "source": [
    "def calculate_primal_objective(y, A, w, lambda_):\n",
    "    \"\"\"compute the full cost (the primal objective), that is loss plus regularizer.\n",
    "    A: the full dataset matrix, shape = (num_examples, num_features)\n",
    "    y: the corresponding +1 or -1 labels, shape = (num_examples)\n",
    "    w: shape = (num_features)\n",
    "    \"\"\"\n",
    "    v = hinge_loss(y, A, w)\n",
    "    return np.sum(v) + lambda_ / 2 * np.sum(w ** 2)"
   ]
  },
  {
   "cell_type": "code",
   "execution_count": 9,
   "metadata": {},
   "outputs": [],
   "source": [
    "def accuracy(y1, y2):\n",
    "    return np.mean(y1 == y2)\n",
    "\n",
    "def prediction(A, w):\n",
    "    return (A @ w > 0) * 2 - 1\n",
    "\n",
    "def calculate_accuracy(y, A, w):\n",
    "    \"\"\"compute the training accuracy on the training set (can be called for test set as well).\n",
    "    A: the full dataset matrix, shape = (num_examples, num_features)\n",
    "    y: the corresponding +1 or -1 labels, shape = (num_examples)\n",
    "    w: shape = (num_features)\n",
    "    \"\"\"\n",
    "    predicted_y = prediction(A, w)\n",
    "    return accuracy(predicted_y, y)"
   ]
  },
  {
   "cell_type": "markdown",
   "metadata": {},
   "source": [
    "## Coordinate Descent (Ascent) for SVM"
   ]
  },
  {
   "cell_type": "markdown",
   "metadata": {},
   "source": [
    "Compute the closed-form update for the i-th variable alpha, in the dual optimization problem, given alpha and the current corresponding w"
   ]
  },
  {
   "cell_type": "code",
   "execution_count": 35,
   "metadata": {},
   "outputs": [],
   "source": [
    "def project_to_box(tensor):\n",
    "    return min(max(tensor, 0.0), 1.0)\n",
    "\n",
    "def calculate_coordinate_update(y, A, lambda_, alpha, w, i):\n",
    "    \"\"\"compute a coordinate update (closed form) for coordinate i.\n",
    "    A: the dataset matrix, shape = (num_examples, num_features)\n",
    "    y: the corresponding +1 or -1 labels, shape = (num_examples)\n",
    "    w: shape = (num_examples)\n",
    "    i: the coordinate to be updated\n",
    "    \"\"\"        \n",
    "    # calculate the update of coordinate at index=i.\n",
    "    a_i, y_i = A[i], y[i]\n",
    "    old_alpha_i = np.copy(alpha[i])\n",
    "    \n",
    "    alpha[i] = project_to_box(old_alpha_i + lambda_ * (1 - y_i * a_i.T @ w) / (a_i.T @ a_i))\n",
    "\n",
    "    # compute the corresponding update on the primal vector w\n",
    "    w += (1.0 / lambda_) * (alpha[i] - old_alpha_i) * y_i * a_i\n",
    "    return w, alpha\n",
    "\n",
    "def calculate_coordinate_update_fixed_stepsize(y, A, lambda_, alpha, w, i, stepsize):      \n",
    "    # calculate the update of coordinate at index=i.\n",
    "    a_i, y_i = A[i], y[i]\n",
    "    old_alpha_i = np.copy(alpha[i])\n",
    "    \n",
    "    # SIMPLIFY This expression\n",
    "    gradi = 1 - 1/lambda_*(a_i.T @ a_i)*old_alpha_i \\\n",
    "            - 1/lambda_*(lambda_ * y_i * a_i.T @ w - (a_i.T @ a_i)*old_alpha_i);\n",
    "    # ... = lambda_ * (1 - y_i * a_i.T @ w) / (a_i.T @ a_i);\n",
    "    alpha[i] = project_to_box(old_alpha_i + stepsize*gradi)\n",
    "\n",
    "    # compute the corresponding update on the primal vector w\n",
    "    w += (1.0 / lambda_) * (alpha[i] - old_alpha_i) * y_i * a_i\n",
    "    return w, alpha\n",
    "\n",
    "def calculate_coordinate_update_wngrad(y, A, lambda_, alpha, w, i, stepsize):      \n",
    "    # calculate the update of coordinate at index=i.\n",
    "    a_i, y_i = A[i], y[i]\n",
    "    old_alpha_i = np.copy(alpha[i])\n",
    "    \n",
    "    # SIMPLIFY This expression\n",
    "    gradi = 1 - 1/lambda_*(a_i.T @ a_i)*old_alpha_i \\\n",
    "            - 1/lambda_*(lambda_ * y_i * a_i.T @ w - (a_i.T @ a_i)*old_alpha_i);\n",
    "    # ... = lambda_ * (1 - y_i * a_i.T @ w) / (a_i.T @ a_i);\n",
    "    b = 1/stepsize\n",
    "    alpha[i] = project_to_box(old_alpha_i + stepsize*gradi)\n",
    "    b = b + gradi*gradi / b\n",
    "    \n",
    "    # compute the corresponding update on the primal vector w\n",
    "    w += (1.0 / lambda_) * (alpha[i] - old_alpha_i) * y_i * a_i\n",
    "    return w, alpha, 1/b"
   ]
  },
  {
   "cell_type": "code",
   "execution_count": 11,
   "metadata": {},
   "outputs": [],
   "source": [
    "def calculate_dual_objective(y, A, w, alpha, lambda_):\n",
    "    \"\"\"calculate the objective for the dual problem.\"\"\"\n",
    "    return np.sum(alpha)  - lambda_ / 2.0 * np.sum(w ** 2) # w = 1/lambda * A * Y * alpha"
   ]
  },
  {
   "cell_type": "code",
   "execution_count": 37,
   "metadata": {},
   "outputs": [
    {
     "name": "stdout",
     "output_type": "stream",
     "text": [
      "iteration=0, primal:2182.78589, dual:0.00018, gap:2182.78571\n"
     ]
    },
    {
     "name": "stderr",
     "output_type": "stream",
     "text": [
      "<ipython-input-35-eefbfbe54f94>:15: RuntimeWarning: divide by zero encountered in double_scalars\n",
      "  alpha[i] = project_to_box(old_alpha_i + lambda_ * (1 - y_i * a_i.T @ w) / (a_i.T @ a_i))\n"
     ]
    },
    {
     "name": "stdout",
     "output_type": "stream",
     "text": [
      "iteration=100000, primal:327.28357, dual:216.33379, gap:110.94978\n",
      "iteration=200000, primal:247.36695, dual:221.75552, gap:25.61143\n",
      "iteration=300000, primal:238.73012, dual:223.37730, gap:15.35283\n",
      "iteration=400000, primal:238.52799, dual:224.36069, gap:14.16730\n",
      "iteration=500000, primal:244.81429, dual:225.31493, gap:19.49936\n",
      "iteration=600000, primal:238.27689, dual:225.90559, gap:12.37130\n",
      "iteration=700000, primal:237.83429, dual:226.31752, gap:11.51677\n",
      "iteration=800000, primal:238.49919, dual:226.60169, gap:11.89750\n",
      "iteration=900000, primal:234.18436, dual:226.91688, gap:7.26748\n",
      "training accuracy = 0.9951554299555915\n"
     ]
    }
   ],
   "source": [
    "def coordinate_descent_for_svm_demo(y, A, trace=False):\n",
    "    max_iter = 1000000\n",
    "    lambda_ = 0.01\n",
    "    history = defaultdict(list) if trace else None\n",
    "    \n",
    "    num_examples, num_features = A.shape\n",
    "    w = np.zeros(num_features)\n",
    "    alpha = np.zeros(num_examples)\n",
    "    \n",
    "    for it in range(max_iter):\n",
    "        # i = sample one data point uniformly at random from the columns of A\n",
    "        i = random.randint(0,num_examples-1)\n",
    "        \n",
    "        w, alpha = calculate_coordinate_update(y, A, lambda_, alpha, w, i)\n",
    "            \n",
    "        if it % 100000 == 0:\n",
    "            # primal objective\n",
    "            primal_value = calculate_primal_objective(y, A, w, lambda_)\n",
    "            # dual objective\n",
    "            dual_value = calculate_dual_objective(y, A, w, alpha, lambda_)\n",
    "            # primal dual gap\n",
    "            duality_gap = primal_value - dual_value\n",
    "            \n",
    "            print('iteration=%i, primal:%.5f, dual:%.5f, gap:%.5f'%(\n",
    "                    it, primal_value, dual_value, duality_gap))\n",
    "        if it % 1000 == 0:\n",
    "            primal_value = calculate_primal_objective(y, A, w, lambda_)\n",
    "            if trace:\n",
    "                history[\"objective_function\"] += [primal_value]\n",
    "                history['iter'].append(it)\n",
    "\n",
    "            \n",
    "    print(\"training accuracy = {l}\".format(l=calculate_accuracy(y, A, w)))\n",
    "    return history\n",
    "\n",
    "history_cd = coordinate_descent_for_svm_demo(y, A, trace=True)"
   ]
  },
  {
   "cell_type": "code",
   "execution_count": 31,
   "metadata": {},
   "outputs": [
    {
     "name": "stdout",
     "output_type": "stream",
     "text": [
      "iteration=0, primal:2421.50010, dual:0.00090, gap:2421.49920\n",
      "iteration=100000, primal:367.79092, dual:11.28320, gap:356.50772\n",
      "iteration=200000, primal:319.43706, dual:21.81774, gap:297.61932\n",
      "iteration=300000, primal:326.33710, dual:31.58334, gap:294.75376\n",
      "iteration=400000, primal:257.22762, dual:41.38525, gap:215.84236\n",
      "iteration=500000, primal:277.39378, dual:50.95265, gap:226.44113\n",
      "iteration=600000, primal:271.10281, dual:60.64393, gap:210.45888\n",
      "iteration=700000, primal:254.29270, dual:70.39376, gap:183.89894\n",
      "iteration=800000, primal:255.11563, dual:80.00957, gap:175.10606\n",
      "iteration=900000, primal:314.01180, dual:89.55560, gap:224.45620\n",
      "training accuracy = 0.9955591441259588\n"
     ]
    },
    {
     "data": {
      "text/plain": [
       "<matplotlib.legend.Legend at 0x7faecfd622b0>"
      ]
     },
     "execution_count": 31,
     "metadata": {},
     "output_type": "execute_result"
    },
    {
     "data": {
      "image/png": "[encoded data removed]",
      "text/plain": [
       "<Figure size 432x288 with 1 Axes>"
      ]
     },
     "metadata": {
      "needs_background": "light"
     },
     "output_type": "display_data"
    }
   ],
   "source": [
    "def coordinate_descent_for_svm_demo_fixed_stepsize(y, A, trace=False):\n",
    "    stepsize = 0.001 # best is between 0.001 and 0.0001\n",
    "    max_iter = 1000000\n",
    "    lambda_ = 0.01\n",
    "    history = defaultdict(list) if trace else None\n",
    "    \n",
    "    num_examples, num_features = A.shape\n",
    "    w = np.zeros(num_features)\n",
    "    alpha = np.zeros(num_examples)\n",
    "    \n",
    "    for it in range(max_iter):\n",
    "        # i = sample one data point uniformly at random from the columns of A\n",
    "        i = random.randint(0,num_examples-1)\n",
    "        \n",
    "        w, alpha = calculate_coordinate_update_fixed_stepsize(y, A, lambda_, alpha, w, i, stepsize)\n",
    "            \n",
    "        if it % 100000 == 0:\n",
    "            # primal objective\n",
    "            primal_value = calculate_primal_objective(y, A, w, lambda_)\n",
    "            # dual objective\n",
    "            dual_value = calculate_dual_objective(y, A, w, alpha, lambda_)\n",
    "            # primal dual gap\n",
    "            duality_gap = primal_value - dual_value\n",
    "            \n",
    "            print('iteration=%i, primal:%.5f, dual:%.5f, gap:%.5f'%(\n",
    "                    it, primal_value, dual_value, duality_gap))\n",
    "        if it % 1000 == 0:\n",
    "            primal_value = calculate_primal_objective(y, A, w, lambda_)\n",
    "            if trace:\n",
    "                history[\"objective_function\"] += [primal_value]\n",
    "                history['iter'].append(it)\n",
    "\n",
    "            \n",
    "    print(\"training accuracy = {l}\".format(l=calculate_accuracy(y, A, w)))\n",
    "    return history\n",
    "\n",
    "history_cd = coordinate_descent_for_svm_demo_fixed_stepsize(y, A, trace=True)\n",
    "\n",
    "\n",
    "\n",
    "\n",
    "\n",
    "plt.semilogy(history_sgd_4[\"iter\"], history_sgd_4[\"objective_function\"], label=\"SGD, gamma = 10^{-4}\")\n",
    "plt.semilogy(history_cd[\"iter\"], history_cd[\"objective_function\"], label=\"Coordinate descent\")\n",
    "plt.legend()"
   ]
  },
  {
   "cell_type": "code",
   "execution_count": 36,
   "metadata": {},
   "outputs": [
    {
     "name": "stdout",
     "output_type": "stream",
     "text": [
      "iteration=0, primal:1869.30105, dual:-0.00005, gap:1869.30110\n",
      "iteration=100000, primal:293.59826, dual:8.26092, gap:285.33734\n",
      "iteration=200000, primal:282.06504, dual:12.22104, gap:269.84400\n",
      "iteration=300000, primal:275.00215, dual:15.03331, gap:259.96884\n",
      "iteration=400000, primal:272.70905, dual:17.25821, gap:255.45084\n",
      "iteration=500000, primal:269.15316, dual:19.15797, gap:249.99519\n",
      "iteration=600000, primal:265.92686, dual:20.80570, gap:245.12117\n",
      "iteration=700000, primal:263.10338, dual:22.27969, gap:240.82368\n",
      "iteration=800000, primal:265.57245, dual:23.65369, gap:241.91876\n",
      "iteration=900000, primal:264.23180, dual:24.91910, gap:239.31270\n",
      "training accuracy = 0.9939442874444893\n"
     ]
    },
    {
     "data": {
      "text/plain": [
       "<matplotlib.legend.Legend at 0x7faed1cc7bb0>"
      ]
     },
     "execution_count": 36,
     "metadata": {},
     "output_type": "execute_result"
    },
    {
     "data": {
      "image/png": "[encoded data removed]",
      "text/plain": [
       "<Figure size 432x288 with 1 Axes>"
      ]
     },
     "metadata": {
      "needs_background": "light"
     },
     "output_type": "display_data"
    }
   ],
   "source": [
    "def coordinate_descent_for_svm_demo_wngrad(y, A, trace=False):\n",
    "    stepsize = 0.001 # best is between 0.001 and 0.0001\n",
    "    max_iter = 1000000\n",
    "    lambda_ = 0.01\n",
    "    history = defaultdict(list) if trace else None\n",
    "    \n",
    "    num_examples, num_features = A.shape\n",
    "    w = np.zeros(num_features)\n",
    "    alpha = np.zeros(num_examples)\n",
    "    \n",
    "    next_stepsize = stepsize\n",
    "    \n",
    "    for it in range(max_iter):\n",
    "        # i = sample one data point uniformly at random from the columns of A\n",
    "        i = random.randint(0,num_examples-1)\n",
    "        \n",
    "        w, alpha, next_stepsize = calculate_coordinate_update_wngrad(y, A, lambda_, alpha, w, i, next_stepsize)\n",
    "            \n",
    "        if it % 100000 == 0:\n",
    "            # primal objective\n",
    "            primal_value = calculate_primal_objective(y, A, w, lambda_)\n",
    "            # dual objective\n",
    "            dual_value = calculate_dual_objective(y, A, w, alpha, lambda_)\n",
    "            # primal dual gap\n",
    "            duality_gap = primal_value - dual_value\n",
    "            \n",
    "            print('iteration=%i, primal:%.5f, dual:%.5f, gap:%.5f'%(\n",
    "                    it, primal_value, dual_value, duality_gap))\n",
    "        if it % 1000 == 0:\n",
    "            primal_value = calculate_primal_objective(y, A, w, lambda_)\n",
    "            if trace:\n",
    "                history[\"objective_function\"] += [primal_value]\n",
    "                history['iter'].append(it)\n",
    "\n",
    "            \n",
    "    print(\"training accuracy = {l}\".format(l=calculate_accuracy(y, A, w)))\n",
    "    return history\n",
    "\n",
    "history_cd = coordinate_descent_for_svm_demo_wngrad(y, A, trace=True)\n",
    "\n",
    "\n",
    "\n",
    "\n",
    "\n",
    "plt.semilogy(history_sgd_4[\"iter\"], history_sgd_4[\"objective_function\"], label=\"SGD, gamma = 10^{-4}\")\n",
    "plt.semilogy(history_cd[\"iter\"], history_cd[\"objective_function\"], label=\"Coordinate descent\")\n",
    "plt.legend()"
   ]
  },
  {
   "cell_type": "markdown",
   "metadata": {},
   "source": [
    "# Stochastic gradient descent for SVM"
   ]
  },
  {
   "cell_type": "markdown",
   "metadata": {},
   "source": [
    "Let's now compare it with SGD on original problem for the SVM"
   ]
  },
  {
   "cell_type": "code",
   "execution_count": 13,
   "metadata": {},
   "outputs": [],
   "source": [
    "def compute_stoch_gradient_svm(A_batch, b_batch, lambda_, w_t, num_data_points):\n",
    "    z = A_batch.dot(w_t) * b_batch\n",
    "    if z >= 1:\n",
    "        gradient = lambda_ * w_t\n",
    "    else:\n",
    "        gradient = lambda_ * w_t - num_data_points * b_batch * A_batch\n",
    "    return gradient.reshape(-1)"
   ]
  },
  {
   "cell_type": "code",
   "execution_count": 14,
   "metadata": {},
   "outputs": [],
   "source": [
    "def stochastic_gradient_descent_svm_demo(A, b, gamma, batch_size=1, trace=False):\n",
    "    history = defaultdict(list) if trace else None\n",
    "    num_data_points, num_features = np.shape(A)\n",
    "    max_iter = 1000000\n",
    "    lambda_ = 0.01\n",
    "    \n",
    "    \n",
    "    w_t = np.zeros(num_features)\n",
    "    \n",
    "    for current_iter in range(max_iter):\n",
    "        i = random.randint(0,num_data_points - 1)\n",
    "        b_batch, A_batch = b[i], A[i]\n",
    "        gradient = compute_stoch_gradient_svm(A_batch, b_batch, lambda_, w_t, num_data_points)\n",
    "        w_t = w_t - gamma * gradient\n",
    "        if current_iter % 100000 == 0:\n",
    "            primal_value = calculate_primal_objective(y, A, w_t, lambda_)\n",
    "            print('iteration=%i, primal:%.5f'%(\n",
    "                    current_iter, primal_value))\n",
    "        if current_iter % 1000 == 0:\n",
    "            primal_value = calculate_primal_objective(y, A, w_t, lambda_)\n",
    "            if trace:\n",
    "                history['objective_function'].append(primal_value)\n",
    "                history['iter'].append(current_iter)\n",
    "    print(\"training accuracy = {l}\".format(l=calculate_accuracy(y, A, w_t)))\n",
    "    return history\n"
   ]
  },
  {
   "cell_type": "markdown",
   "metadata": {},
   "source": [
    "Try different stepsized and find the best one"
   ]
  },
  {
   "cell_type": "code",
   "execution_count": 15,
   "metadata": {},
   "outputs": [
    {
     "name": "stdout",
     "output_type": "stream",
     "text": [
      "iteration=0, primal:1092.08184\n",
      "iteration=100000, primal:360.85470\n",
      "iteration=200000, primal:404.07870\n",
      "iteration=300000, primal:369.11213\n",
      "iteration=400000, primal:401.02676\n",
      "iteration=500000, primal:378.49541\n",
      "iteration=600000, primal:392.98126\n",
      "iteration=700000, primal:392.82054\n",
      "iteration=800000, primal:349.61988\n",
      "iteration=900000, primal:397.12734\n",
      "training accuracy = 0.9895034315704482\n",
      "iteration=0, primal:2370.69223\n",
      "iteration=100000, primal:253.43007\n",
      "iteration=200000, primal:240.03496\n",
      "iteration=300000, primal:242.33473\n",
      "iteration=400000, primal:241.29251\n",
      "iteration=500000, primal:244.80900\n",
      "iteration=600000, primal:239.62044\n",
      "iteration=700000, primal:237.68810\n",
      "iteration=800000, primal:235.94758\n",
      "iteration=900000, primal:237.85047\n",
      "training accuracy = 0.994751715785224\n",
      "iteration=0, primal:2386.26752\n",
      "iteration=100000, primal:275.12740\n",
      "iteration=200000, primal:259.19238\n",
      "iteration=300000, primal:253.29082\n",
      "iteration=400000, primal:249.21236\n",
      "iteration=500000, primal:245.78776\n",
      "iteration=600000, primal:242.78955\n",
      "iteration=700000, primal:241.02411\n",
      "iteration=800000, primal:240.70147\n",
      "iteration=900000, primal:238.09433\n",
      "training accuracy = 0.9939442874444893\n",
      "iteration=0, primal:2468.65994\n",
      "iteration=100000, primal:374.54674\n",
      "iteration=200000, primal:338.40671\n",
      "iteration=300000, primal:320.68185\n",
      "iteration=400000, primal:309.49573\n",
      "iteration=500000, primal:299.86394\n",
      "iteration=600000, primal:291.60132\n",
      "iteration=700000, primal:284.84428\n",
      "iteration=800000, primal:278.96508\n",
      "iteration=900000, primal:274.48087\n",
      "training accuracy = 0.9870811465482439\n"
     ]
    }
   ],
   "source": [
    "history_sgd_3 = stochastic_gradient_descent_svm_demo(A, y, 1e-3, batch_size=1, trace=True)\n",
    "history_sgd_4 = stochastic_gradient_descent_svm_demo(A, y, 1e-4, batch_size=1, trace=True)\n",
    "history_sgd_5 = stochastic_gradient_descent_svm_demo(A, y, 1e-5, batch_size=1, trace=True)\n",
    "history_sgd_6 = stochastic_gradient_descent_svm_demo(A, y, 1e-6, batch_size=1, trace=True)"
   ]
  },
  {
   "cell_type": "markdown",
   "metadata": {},
   "source": [
    "Lets plot"
   ]
  },
  {
   "cell_type": "code",
   "execution_count": 16,
   "metadata": {
    "scrolled": true
   },
   "outputs": [
    {
     "data": {
      "text/plain": [
       "<matplotlib.legend.Legend at 0x7faecfc56880>"
      ]
     },
     "execution_count": 16,
     "metadata": {},
     "output_type": "execute_result"
    },
    {
     "data": {
      "image/png": "[encoded data removed]",
      "text/plain": [
       "<Figure size 432x288 with 1 Axes>"
      ]
     },
     "metadata": {
      "needs_background": "light"
     },
     "output_type": "display_data"
    }
   ],
   "source": [
    "plt.semilogy(history_sgd_3[\"iter\"], history_sgd_3[\"objective_function\"], label=\"sgd, gamma = 10^{-3}\")\n",
    "plt.semilogy(history_sgd_4[\"iter\"], history_sgd_4[\"objective_function\"], label=\"sgd, gamma = 10^{-4}\")\n",
    "plt.semilogy(history_sgd_5[\"iter\"], history_sgd_5[\"objective_function\"], label=\"sgd, gamma = 10^{-5}\")\n",
    "plt.semilogy(history_sgd_6[\"iter\"], history_sgd_6[\"objective_function\"], label=\"sgd, gamma = 10^{-6}\")\n",
    "plt.legend()"
   ]
  },
  {
   "cell_type": "markdown",
   "metadata": {},
   "source": [
    "We see that the best stepsize is $10^{-4}$."
   ]
  },
  {
   "cell_type": "markdown",
   "metadata": {},
   "source": [
    "## Compare SGD with Coordinate Descent"
   ]
  },
  {
   "cell_type": "code",
   "execution_count": 38,
   "metadata": {},
   "outputs": [
    {
     "data": {
      "text/plain": [
       "<matplotlib.legend.Legend at 0x7faed1eba6a0>"
      ]
     },
     "execution_count": 38,
     "metadata": {},
     "output_type": "execute_result"
    },
    {
     "data": {
      "image/png": "[encoded data removed]",
      "text/plain": [
       "<Figure size 432x288 with 1 Axes>"
      ]
     },
     "metadata": {
      "needs_background": "light"
     },
     "output_type": "display_data"
    }
   ],
   "source": [
    "plt.semilogy(history_sgd_4[\"iter\"], history_sgd_4[\"objective_function\"], label=\"SGD, gamma = 10^{-4}\")\n",
    "plt.semilogy(history_cd[\"iter\"], history_cd[\"objective_function\"], label=\"Coordinate descent\")\n",
    "plt.legend()"
   ]
  },
  {
   "cell_type": "markdown",
   "metadata": {},
   "source": [
    "Time-wise, SGD and coordinate descent have the same per iteration time complexities. On the graph above SGD with the best stepsize converges with approximately the same speed than coordinate descent iteration-wise, while coordinate descent doesn't require any parameter tuning! "
   ]
  },
  {
   "cell_type": "code",
   "execution_count": null,
   "metadata": {},
   "outputs": [],
   "source": []
  }
 ],
 "metadata": {
  "anaconda-cloud": {},
  "kernelspec": {
   "display_name": "Python 3",
   "language": "python",
   "name": "python3"
  },
  "language_info": {
   "codemirror_mode": {
    "name": "ipython",
    "version": 3
   },
   "file_extension": ".py",
   "mimetype": "text/x-python",
   "name": "python",
   "nbconvert_exporter": "python",
   "pygments_lexer": "ipython3",
   "version": "3.9.1"
  },
  "toc": {
   "base_numbering": 1,
   "nav_menu": {},
   "number_sections": true,
   "sideBar": true,
   "skip_h1_title": false,
   "title_cell": "Table of Contents",
   "title_sidebar": "Contents",
   "toc_cell": false,
   "toc_position": {},
   "toc_section_display": true,
   "toc_window_display": false
  }
 },
 "nbformat": 4,
 "nbformat_minor": 1
}
