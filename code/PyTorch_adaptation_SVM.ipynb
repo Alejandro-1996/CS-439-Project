{
 "cells": [
  {
   "cell_type": "code",
   "execution_count": 1,
   "id": "little-beatles",
   "metadata": {},
   "outputs": [],
   "source": [
    "# Bunch of useful libraries + wngrad\n",
    "from collections import defaultdict\n",
    "import numpy as np\n",
    "import numpy.matlib\n",
    "import scipy\n",
    "import scipy.sparse as sps\n",
    "import math\n",
    "import matplotlib.pyplot as plt\n",
    "import time\n",
    "import torch\n",
    "from sklearn.datasets import load_svmlight_file\n",
    "import random\n",
    "import helpers\n",
    "from wngrad import WNGrad\n",
    "%matplotlib inline"
   ]
  },
  {
   "cell_type": "markdown",
   "id": "direct-drink",
   "metadata": {},
   "source": [
    "# SVM parameters"
   ]
  },
  {
   "cell_type": "code",
   "execution_count": 2,
   "id": "extreme-pacific",
   "metadata": {},
   "outputs": [
    {
     "name": "stdout",
     "output_type": "stream",
     "text": [
      "torch.Size([2477]) torch.Size([2477, 300])\n"
     ]
    }
   ],
   "source": [
    "DATA_TRAIN_PATH = '../data/w1a'\n",
    "\n",
    "A, y = load_svmlight_file(DATA_TRAIN_PATH)\n",
    "A = A.toarray()\n",
    "n_instances, n_features = A.shape\n",
    "A = torch.tensor(A, dtype=torch.float, requires_grad = True)\n",
    "y = torch.tensor(y, dtype=torch.float, requires_grad = True)\n",
    "print(y.shape, A.shape)"
   ]
  },
  {
   "cell_type": "markdown",
   "id": "charged-emphasis",
   "metadata": {},
   "source": [
    "## Optimizer"
   ]
  },
  {
   "cell_type": "code",
   "execution_count": 3,
   "id": "sitting-chuck",
   "metadata": {},
   "outputs": [],
   "source": [
    "w = torch.zeros(n_features, requires_grad=True, dtype=torch.float)\n",
    "optimizer = WNGrad([w], lambda_wn=None)\n",
    "\n",
    "def train_SVM(A, b, w, optimizer, lambda_svm, nb_of_iter = 100, batch_size = None):\n",
    "    history = defaultdict(list)\n",
    "    for i in range(nb_of_iter):\n",
    "        # 'forward pass'\n",
    "        if batch_size == None:\n",
    "            output = helpers.prediction(A, w)\n",
    "            # Calculate loss\n",
    "            loss = helpers.calculate_primal_objective(y, A, w, lambda_svm)\n",
    "            \n",
    "        else:\n",
    "            idx = random.randint(0,n_features - batch_size)\n",
    "            loss = helpers.calculate_primal_objective(y[idx:idx+batch_size], A[idx:idx+batch_size], w, lambda_svm)\n",
    "            \n",
    "        loss.backward()\n",
    "        \n",
    "        def closure(alternative_w = None):\n",
    "            optimizer.zero_grad()\n",
    "            if alternative_w != None:\n",
    "#                 print('Calculating with alternative w')\n",
    "#                 output = (A @ alternative_w > 0) * 2 - 1\n",
    "#                 print('A grad:', A.requires_grad, 'output grad:', output.requires_grad, 'Alt_weights:', alternative_w.requires_grad)\n",
    "#                 print('Calling calculate_primal_obj...')\n",
    "                loss = helpers.calculate_primal_objective(y, A, alternative_w, lambda_svm)\n",
    "#                 print(f'Inside closure: y:{y.requires_grad}, A:{A.requires_grad}, \\\n",
    "#                       alt_w:{alternative_w.requires_grad}, loss:{loss.requires_grad}')\n",
    "            else:\n",
    "#                 output = (A @ w > 0) * 2 - 1\n",
    "                loss = helpers.calculate_primal_objective(y, A, w, lambda_svm)\n",
    "            return loss\n",
    "        if 'SGD' in str(optimizer):\n",
    "            optimizer.step()\n",
    "        elif 'WNGrad' in str(optimizer):\n",
    "            if i == 0:\n",
    "                initial_b = 0\n",
    "                # Get gradient for orig vector\n",
    "                with torch.enable_grad():\n",
    "                    loss = helpers.calculate_primal_objective(y, A, w, lambda_svm)\n",
    "                    loss.backward()\n",
    "                gradient = w.grad\n",
    "                for i in np.arange(-0.5, 0.5, 0.2):                   \n",
    "                    w_t_close = torch.empty_like(w).normal_(0, 10**i)\n",
    "                    w_t_close.requires_grad = True\n",
    "#                     w_t_close = np.random.normal(w.mean(), np.array([10], dtype = float)**i, size = w.shape)\n",
    "                    with torch.enable_grad():\n",
    "                        loss = helpers.calculate_primal_objective(y, A, w_t_close, lambda_svm)\n",
    "                        loss.backward()\n",
    "                    gradient_close = w_t_close.grad\n",
    "                    b = (gradient - gradient_close).norm(2)/(w - w_t_close).norm(2)\n",
    "                    if b > initial_b:\n",
    "                        initial_b = b\n",
    "                b = initial_b\n",
    "                print('initial b:', initial_b)\n",
    "                optimizer.b = b\n",
    "            optimizer.step(closure)\n",
    "        optimizer.zero_grad()\n",
    "        \n",
    "        if i % 10000 == 0:\n",
    "            primal_value = helpers.calculate_primal_objective(y, A, w, lambda_svm)\n",
    "            try:\n",
    "                b_j = optimizer.state_dict()['state'][0]['b_j']\n",
    "                print(f'iteration={i}, primal:{primal_value:.5f}, b = {b_j}, wt_mean = {w.mean():.2f}, {w.std():.2f}')\n",
    "            except:\n",
    "                print(f'iteration={i}, primal:{primal_value:.5f}, wt_mean = {w.mean():.2f}, {w.std():.2f}')\n",
    "        if i % 100 == 0:\n",
    "            primal_value = helpers.calculate_primal_objective(y, A, w, lambda_svm)            \n",
    "            history['objective_function'].append(primal_value)\n",
    "            history['iter'].append(i)\n",
    "#             history['gradient_norm'].append(np.linalg.norm(gradient))\n",
    "    \n",
    "    print(\"training accuracy = {l}\".format(l=helpers.calculate_accuracy(y.detach().numpy(), A.detach().numpy(), w.detach().numpy())))\n",
    "    return history, loss"
   ]
  },
  {
   "cell_type": "code",
   "execution_count": 4,
   "id": "standing-symphony",
   "metadata": {},
   "outputs": [
    {
     "name": "stdout",
     "output_type": "stream",
     "text": [
      "initial b: tensor(170.8845, grad_fn=<DivBackward0>)\n",
      "iteration=10000, primal:229.68579, wt_mean = -0.00, 1.74\n",
      "iteration=20000, primal:228.72935, wt_mean = 0.01, 1.86\n",
      "iteration=30000, primal:228.51662, wt_mean = 0.01, 1.91\n",
      "iteration=40000, primal:228.45177, wt_mean = 0.01, 1.94\n",
      "iteration=50000, primal:228.35881, wt_mean = 0.01, 1.96\n",
      "iteration=60000, primal:228.33090, wt_mean = 0.01, 1.97\n",
      "iteration=70000, primal:228.31769, wt_mean = 0.01, 1.97\n",
      "iteration=80000, primal:228.31180, wt_mean = 0.01, 1.97\n",
      "iteration=90000, primal:228.31056, wt_mean = 0.01, 1.97\n",
      "training accuracy = 0.9951554299555915\n",
      "iteration=0, primal:2411.34985, wt_mean = -0.00, 0.00\n",
      "iteration=10000, primal:1075.12280, wt_mean = 0.04, 0.37\n",
      "iteration=20000, primal:1091.98608, wt_mean = 0.04, 0.43\n",
      "iteration=30000, primal:1124.58789, wt_mean = 0.05, 0.47\n",
      "iteration=40000, primal:1147.22021, wt_mean = 0.05, 0.50\n",
      "iteration=50000, primal:1159.58643, wt_mean = 0.05, 0.52\n",
      "iteration=60000, primal:1167.48755, wt_mean = 0.05, 0.53\n",
      "iteration=70000, primal:1169.34741, wt_mean = 0.05, 0.54\n",
      "iteration=80000, primal:1172.75281, wt_mean = 0.05, 0.55\n",
      "iteration=90000, primal:1174.16858, wt_mean = 0.05, 0.55\n",
      "training accuracy = 0.884134033104562\n"
     ]
    }
   ],
   "source": [
    "# Train with WNGrad\n",
    "w = torch.zeros(n_features, requires_grad=True, dtype=torch.float)\n",
    "optimizer = WNGrad([w], lambda_wn=None)\n",
    "history_wngrad, loss = train_SVM(A, y, w, optimizer, lambda_svm = 0.01, nb_of_iter = 100000, batch_size = 30)\n",
    "# Train with SGD (Restart w)\n",
    "w = torch.zeros(n_features, requires_grad=True, dtype=torch.float)\n",
    "optimizer = torch.optim.SGD([w], lr=1e-4)\n",
    "history_sgd, loss = train_SVM(A, y, w, optimizer, lambda_svm = 0.01, nb_of_iter = 100000, batch_size = 300)\n"
   ]
  },
  {
   "cell_type": "code",
   "execution_count": 6,
   "id": "minute-regard",
   "metadata": {},
   "outputs": [
    {
     "data": {
      "image/png": "[encoded data removed]",
      "text/plain": [
       "<Figure size 648x432 with 1 Axes>"
      ]
     },
     "metadata": {
      "needs_background": "light"
     },
     "output_type": "display_data"
    }
   ],
   "source": [
    "plt.figure(figsize = (9, 6))\n",
    "fig = plt.gcf()\n",
    "ax = plt.gca()\n",
    "plt.semilogy(history_sgd[\"iter\"], history_sgd[\"objective_function\"], label=\"SGD, $\\gamma = 10^{-3}$\")\n",
    "plt.semilogy(history_wngrad[\"iter\"], history_wngrad[\"objective_function\"], label=\"WNGrad-Modified\")\n",
    "# plt.semilogy(history_wngrad_b2[\"iter\"], history_wngrad_b2[\"objective_function\"], label=\"WNGrad\")\n",
    "plt.grid(which = 'minor')\n",
    "plt.grid(which = 'major')\n",
    "plt.ylabel('Loss', fontsize = 16)\n",
    "plt.xlabel('Iterations', fontsize = 16)\n",
    "# plt.gcf().set_dpi(300)\n",
    "plt.legend(prop={'size': 14})\n",
    "plt.title('SVM', fontsize = 20)\n",
    "plt.show()\n",
    "fig.savefig('SVM')"
   ]
  },
  {
   "cell_type": "code",
   "execution_count": 27,
   "id": "essential-grass",
   "metadata": {},
   "outputs": [],
   "source": [
    "class SVMWNGrad():\n",
    "\n",
    "    def __init__(self, n_iter=100, lr=None, lambda_=None):\n",
    "        self.n_iter = n_iter\n",
    "        self.lr = lr\n",
    "        self.lambda_ = lambda_\n",
    "        \n",
    "    def fit(self, A, y):\n",
    "\n",
    "        n_instances, n_features = X.shape\n",
    "        \n",
    "        # we need to \"wrap\" the NumPy arrays X and Y as PyTorch tensors\n",
    "        Xt = torch.tensor(A, dtype=torch.float)\n",
    "        yt = torch.tensor(y, dtype=torch.float)\n",
    "\n",
    "        # initialize the weight vector to all zeros\n",
    "        self.w = torch.zeros(n_features, requires_grad=True, dtype=torch.float)\n",
    "\n",
    "        self.history = []\n",
    "        \n",
    "        # we select an optimizer, in this case (minibatch) SGD.\n",
    "        # it needs to be told what parameters to optimize, and what learning rate (lr) to use\n",
    "        optimizer = WNGrad([self.w], lr=self.lr, lambda_=self.lambda_)\n",
    "        \n",
    "        svm_loss = helpers.calculate_primal_objective\n",
    "        # as an alternative to SGD, we could have used adaptive gradient-based optimization\n",
    "        # algorithms such as Adam. I don't think they give an improvement in this case though,\n",
    "        # since the objective function is so simple.\n",
    "        #   optimizer = torch.optim.Adam([self.w], lr=self.eta)\n",
    "        for i in range(self.n_iter):  \n",
    "            def closure(alternative_w = None):\n",
    "                optimizer.zero_grad()\n",
    "                output = (Xt @ self.w > 0) * 2 - 1\n",
    "                if alternative_w != None:\n",
    "                    loss = svm_loss(yt, At, alternative_w, lambda_)\n",
    "                else:\n",
    "                    loss = svm_loss(yt, At, alternative_w, lambda_)\n",
    "                loss.backward()\n",
    "                return loss\n",
    "\n",
    "            loss = optimizer.step(closure)\n",
    "            self.history.append(loss)\n",
    "                                      \n",
    "        print('WNGrad final loss: {:.4f}'.format(loss))"
   ]
  }
 ],
 "metadata": {
  "kernelspec": {
   "display_name": "Python 3",
   "language": "python",
   "name": "python3"
  },
  "language_info": {
   "codemirror_mode": {
    "name": "ipython",
    "version": 3
   },
   "file_extension": ".py",
   "mimetype": "text/x-python",
   "name": "python",
   "nbconvert_exporter": "python",
   "pygments_lexer": "ipython3",
   "version": "3.7.9"
  }
 },
 "nbformat": 4,
 "nbformat_minor": 5
}
