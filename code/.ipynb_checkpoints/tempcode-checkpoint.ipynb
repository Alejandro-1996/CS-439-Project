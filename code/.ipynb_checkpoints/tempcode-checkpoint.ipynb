{
 "cells": [
  {
   "cell_type": "code",
   "execution_count": 1,
   "metadata": {},
   "outputs": [],
   "source": [
    "from collections import defaultdict\n",
    "import numpy as np\n",
    "import scipy\n",
    "import scipy.sparse as sps\n",
    "import math\n",
    "import matplotlib.pyplot as plt\n",
    "import time\n",
    "from sklearn.datasets import load_svmlight_file\n",
    "import random\n",
    "import helpers\n",
    "%matplotlib inline"
   ]
  },
  {
   "cell_type": "code",
   "execution_count": 2,
   "metadata": {},
   "outputs": [
    {
     "name": "stdout",
     "output_type": "stream",
     "text": [
      "(2477,) (2477, 300)\n"
     ]
    }
   ],
   "source": [
    "DATA_TRAIN_PATH = '../data/w1a.txt'\n",
    "\n",
    "A, y = load_svmlight_file(DATA_TRAIN_PATH)\n",
    "A = A.toarray()\n",
    "print(y.shape, A.shape)"
   ]
  },
  {
   "cell_type": "code",
   "execution_count": 3,
   "metadata": {},
   "outputs": [],
   "source": [
    "def project_to_box(tensor):\n",
    "    return min(max(tensor, 0.0), 1.0)\n",
    "\n",
    "def calculate_coordinate_update_wngrad(y, A, lambda_, alpha, w, i, stepsize):      \n",
    "    # calculate the update of coordinate at index=i.\n",
    "    a_i, y_i = A[i], y[i]\n",
    "    old_alpha_i = np.copy(alpha[i])\n",
    "    \n",
    "    gradi = 1 - 1/lambda_*(a_i.T @ a_i)*old_alpha_i \\\n",
    "            - 1/lambda_*(lambda_ * y_i * a_i.T @ w - (a_i.T @ a_i)*old_alpha_i);\n",
    "    b = 1/stepsize\n",
    "    alpha[i] = project_to_box(old_alpha_i + stepsize*gradi)\n",
    "    b = b + gradi*gradi / b\n",
    "    \n",
    "    # compute the corresponding update on the primal vector w\n",
    "    w += (1.0 / lambda_) * (alpha[i] - old_alpha_i) * y_i * a_i\n",
    "    return w, alpha, 1/b"
   ]
  },
  {
   "cell_type": "code",
   "execution_count": 5,
   "metadata": {},
   "outputs": [
    {
     "name": "stdout",
     "output_type": "stream",
     "text": [
      "iteration=0, primal:2345.90025, dual:0.00075, gap:2345.89950\n",
      "iteration=100000, primal:289.24888, dual:8.13183, gap:281.11704\n",
      "iteration=200000, primal:280.89383, dual:12.14507, gap:268.74877\n",
      "iteration=300000, primal:276.40127, dual:14.93178, gap:261.46948\n",
      "iteration=400000, primal:269.82246, dual:17.17391, gap:252.64855\n",
      "iteration=500000, primal:268.57881, dual:19.07351, gap:249.50530\n",
      "iteration=600000, primal:264.37651, dual:20.70571, gap:243.67080\n",
      "iteration=700000, primal:264.23489, dual:22.16606, gap:242.06883\n",
      "iteration=800000, primal:265.41419, dual:23.52937, gap:241.88482\n",
      "iteration=900000, primal:262.74642, dual:24.78554, gap:237.96088\n",
      "training accuracy = 0.9935405732741219\n"
     ]
    },
    {
     "data": {
      "text/plain": [
       "<matplotlib.legend.Legend at 0x7fe4ca772040>"
      ]
     },
     "execution_count": 5,
     "metadata": {},
     "output_type": "execute_result"
    },
    {
     "data": {
      "image/png": "[encoded data removed]",
      "text/plain": [
       "<Figure size 432x288 with 1 Axes>"
      ]
     },
     "metadata": {
      "needs_background": "light"
     },
     "output_type": "display_data"
    }
   ],
   "source": [
    "def coordinate_descent_for_svm_demo_wngrad(y, A, trace=False):\n",
    "    stepsize = 0.001 # best is between 0.001 and 0.0001\n",
    "    max_iter = 1000000\n",
    "    lambda_ = 0.01\n",
    "    history = defaultdict(list) if trace else None\n",
    "    \n",
    "    num_examples, num_features = A.shape\n",
    "    w = np.zeros(num_features)\n",
    "    alpha = np.zeros(num_examples)\n",
    "    \n",
    "    next_stepsize = stepsize\n",
    "    \n",
    "    for it in range(max_iter):\n",
    "        # i = sample one data point uniformly at random from the columns of A\n",
    "        i = random.randint(0,num_examples-1)\n",
    "        \n",
    "        w, alpha, next_stepsize = helpers.calculate_coordinate_update_wngrad(y, A, lambda_, alpha, w, i, next_stepsize)\n",
    "            \n",
    "        if it % 100000 == 0:\n",
    "            # primal objective\n",
    "            primal_value = helpers.calculate_primal_objective(y, A, w, lambda_)\n",
    "            # dual objective\n",
    "            dual_value = helpers.calculate_dual_objective(y, A, w, alpha, lambda_)\n",
    "            # primal dual gap\n",
    "            duality_gap = primal_value - dual_value\n",
    "            \n",
    "            print('iteration=%i, primal:%.5f, dual:%.5f, gap:%.5f'%(\n",
    "                    it, primal_value, dual_value, duality_gap))\n",
    "        if it % 1000 == 0:\n",
    "            primal_value = helpers.calculate_primal_objective(y, A, w, lambda_)\n",
    "            if trace:\n",
    "                history[\"objective_function\"] += [primal_value]\n",
    "                history['iter'].append(it)\n",
    "\n",
    "            \n",
    "    print(\"training accuracy = {l}\".format(l=helpers.calculate_accuracy(y, A, w)))\n",
    "    return history\n",
    "\n",
    "history_cd = coordinate_descent_for_svm_demo_wngrad(y, A, trace=True)\n",
    "\n",
    "\n",
    "\n",
    "\n",
    "\n",
    "plt.semilogy(history_cd[\"iter\"], history_cd[\"objective_function\"], label=\"Coordinate descent\")\n",
    "plt.legend()"
   ]
  },
  {
   "cell_type": "code",
   "execution_count": null,
   "metadata": {},
   "outputs": [],
   "source": []
  }
 ],
 "metadata": {
  "anaconda-cloud": {},
  "kernelspec": {
   "display_name": "Python 3",
   "language": "python",
   "name": "python3"
  },
  "language_info": {
   "codemirror_mode": {
    "name": "ipython",
    "version": 3
   },
   "file_extension": ".py",
   "mimetype": "text/x-python",
   "name": "python",
   "nbconvert_exporter": "python",
   "pygments_lexer": "ipython3",
   "version": "3.9.1"
  },
  "toc": {
   "base_numbering": 1,
   "nav_menu": {},
   "number_sections": true,
   "sideBar": true,
   "skip_h1_title": false,
   "title_cell": "Table of Contents",
   "title_sidebar": "Contents",
   "toc_cell": false,
   "toc_position": {},
   "toc_section_display": true,
   "toc_window_display": false
  }
 },
 "nbformat": 4,
 "nbformat_minor": 1
}
